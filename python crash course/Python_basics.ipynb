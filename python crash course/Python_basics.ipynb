{
 "cells": [
  {
   "cell_type": "code",
   "execution_count": 1,
   "id": "9752a836-3b61-4ccc-a1c2-1d587d36f4e5",
   "metadata": {},
   "outputs": [
    {
     "name": "stdout",
     "output_type": "stream",
     "text": [
      "pratik\n"
     ]
    }
   ],
   "source": [
    "name=\"pratik\"\n",
    "print(name)\n"
   ]
  },
  {
   "cell_type": "markdown",
   "id": "b56ab9d4-8f6c-4cc5-ae0e-924fd7fe0997",
   "metadata": {},
   "source": [
    "What is python programming?<br>\n",
    "Python is a high-level, general-purpose programming language. Its design philosophy emphasizes code readability with the use of significant indentation."
   ]
  },
  {
   "cell_type": "markdown",
   "id": "febec2ae-6ce5-4a99-81de-643b9014c72d",
   "metadata": {},
   "source": [
    "**1. Print statements**"
   ]
  },
  {
   "cell_type": "code",
   "execution_count": 6,
   "id": "b1ba0e07-c01f-4d32-a543-c6339b1b66d3",
   "metadata": {},
   "outputs": [
    {
     "name": "stdout",
     "output_type": "stream",
     "text": [
      "Let's learn about Python Programming today!\n"
     ]
    }
   ],
   "source": [
    "print(\"Let's learn about Python Programming today!\")"
   ]
  },
  {
   "cell_type": "code",
   "execution_count": 8,
   "id": "b1d543c2-39b8-458c-a948-acf39e85027d",
   "metadata": {},
   "outputs": [
    {
     "name": "stdout",
     "output_type": "stream",
     "text": [
      "10\n",
      "Ram\n"
     ]
    }
   ],
   "source": [
    "# let's create two variable and print them\n",
    "x=10\n",
    "y=\"Ram\"\n",
    "print(x)\n",
    "print(y)\n"
   ]
  },
  {
   "cell_type": "code",
   "execution_count": 10,
   "id": "4f83d94a-56f2-4a98-adf0-52543220dea4",
   "metadata": {},
   "outputs": [],
   "source": [
    "#using format method"
   ]
  },
  {
   "cell_type": "code",
   "execution_count": 33,
   "id": "7f29e961-a12d-4c0e-9034-9242c1830350",
   "metadata": {},
   "outputs": [
    {
     "name": "stdout",
     "output_type": "stream",
     "text": [
      "Lora is 22 years old.\n"
     ]
    }
   ],
   "source": [
    "a=22\n",
    "b=\"Lora\"\n",
    "print(\"{} is {} years old.\" .format(b,a))"
   ]
  },
  {
   "cell_type": "code",
   "execution_count": 35,
   "id": "0a6a7185-935b-4d10-a767-5b0a11f984aa",
   "metadata": {},
   "outputs": [
    {
     "name": "stdout",
     "output_type": "stream",
     "text": [
      "Lora is 22 years old.\n"
     ]
    }
   ],
   "source": [
    "#USING CONCATINATION METHOD\n",
    "print(b+\" is \" +str(a)+ \" years old.\")"
   ]
  },
  {
   "cell_type": "code",
   "execution_count": 39,
   "id": "b974b251-1e5a-4ac7-9e91-d15221748b3b",
   "metadata": {},
   "outputs": [
    {
     "name": "stdout",
     "output_type": "stream",
     "text": [
      "Lora is 22 years old.\n"
     ]
    }
   ],
   "source": [
    "#Using older %string formatting method\n",
    "print(\"%s is %d years old.\" %(b,a))"
   ]
  },
  {
   "cell_type": "code",
   "execution_count": 41,
   "id": "2c932fa0-56c0-47d9-83b0-f2560c82d394",
   "metadata": {},
   "outputs": [
    {
     "name": "stdout",
     "output_type": "stream",
     "text": [
      "Lora is 22 years old.\n"
     ]
    }
   ],
   "source": [
    "#let's use string formatting method\n",
    "print(f\"{b} is {a} years old.\")"
   ]
  },
  {
   "cell_type": "markdown",
   "id": "4778186a-94fc-4153-bb0a-53278752b400",
   "metadata": {},
   "source": [
    "**Data types**\n",
    "<br>\n",
    "A data type (or simply type) is a collection or grouping of data values, usually specified by a set of possible values, a set of allowed operations on these values, and/or a representation of these values as machine types"
   ]
  },
  {
   "cell_type": "markdown",
   "id": "6107d508-9406-4134-ade9-073eda7b01bf",
   "metadata": {},
   "source": [
    "2.1 NUmbers:"
   ]
  },
  {
   "cell_type": "code",
   "execution_count": 51,
   "id": "d8189166-1fa0-49ec-84e9-195ead3b84b9",
   "metadata": {},
   "outputs": [
    {
     "name": "stdout",
     "output_type": "stream",
     "text": [
      "the addition of 20 and 60 is 80.\n",
      "the sunstration of 20 from 60 is 40.\n",
      "the multiplication of 20 and 60 is 1200.\n",
      "the division of 20 from 60 is 3.0.\n",
      "the mode of 20 and 60 is 0.\n"
     ]
    }
   ],
   "source": [
    "m=20\n",
    "n=60\n",
    "print(f\"the addition of {m} and {n} is {m+n}.\")\n",
    "print(f\"the sunstration of {m} from {n} is {n-m}.\")\n",
    "print(f\"the multiplication of {m} and {n} is {m*n}.\")\n",
    "print(f\"the division of {m} from {n} is {n/m}.\")\n",
    "print(f\"the mode of {m} and {n} is {n%m}.\")\n"
   ]
  },
  {
   "cell_type": "code",
   "execution_count": 55,
   "id": "0f5abac4-c9fd-4249-a6e4-cd3ebaf47d5e",
   "metadata": {},
   "outputs": [
    {
     "name": "stdin",
     "output_type": "stream",
     "text": [
      "Enter the temperature in celsius:  37\n"
     ]
    },
    {
     "name": "stdout",
     "output_type": "stream",
     "text": [
      "37 degree celsius is 98 degree fahrenheit\n"
     ]
    }
   ],
   "source": [
    "#temperature conversion \n",
    "celsius=int(input(\"Enter the temperature in celsius: \"))\n",
    "fahrenheit=(celsius*9/5) +32\n",
    "print(f\"{celsius} degree celsius is {int(fahrenheit)} degree fahrenheit\")"
   ]
  },
  {
   "cell_type": "code",
   "execution_count": 57,
   "id": "5e1ee93a-e00d-48bf-968d-0d6b46163577",
   "metadata": {},
   "outputs": [
    {
     "name": "stdout",
     "output_type": "stream",
     "text": [
      "3.14\n"
     ]
    }
   ],
   "source": [
    "#Rounding float number\n",
    "pi=3.14159\n",
    "rounded_pi=round(pi,2)\n",
    "print(rounded_pi)"
   ]
  },
  {
   "cell_type": "code",
   "execution_count": 59,
   "id": "e30a4b21-952b-4b6d-aee5-e71a2c056b94",
   "metadata": {},
   "outputs": [
    {
     "name": "stdin",
     "output_type": "stream",
     "text": [
      "Enter the principal in rupees:  100000\n",
      "Enter the time in years:  1\n",
      "Enter the rate in percentage per annum:  10\n"
     ]
    },
    {
     "name": "stdout",
     "output_type": "stream",
     "text": [
      "the simple interest of this 100000 principal is 10000.0\n"
     ]
    }
   ],
   "source": [
    "#simple interest calculator\n",
    "principal=int(input(\"Enter the principal in rupees: \"))\n",
    "time=int(input(\"Enter the time in years: \"))\n",
    "rate=int(input(\"Enter the rate in percentage per annum: \"))\n",
    "simple_interest=(principal*time*rate)/100;\n",
    "print(f\"the simple interest of this {principal} principal is {simple_interest}\")\n",
    "\n",
    "\n"
   ]
  },
  {
   "cell_type": "code",
   "execution_count": 69,
   "id": "7e7e6580-50c6-45dc-b609-129d384389a2",
   "metadata": {},
   "outputs": [
    {
     "name": "stdout",
     "output_type": "stream",
     "text": [
      "BMI:24.49\n"
     ]
    }
   ],
   "source": [
    "#BMI(Body Mass Index Calculation)\n",
    "weight_kg=75\n",
    "height_m=1.75\n",
    "bmi=((weight_kg)/height_m**2)\n",
    "print(f\"BMI:{bmi:.2f}\") #this :colon on the variable is used to specify the float digit after the natural value."
   ]
  },
  {
   "cell_type": "markdown",
   "id": "de09e9e3-7a02-4fe3-b740-aa338b7f98cb",
   "metadata": {},
   "source": [
    "2.2 String"
   ]
  },
  {
   "cell_type": "markdown",
   "id": "0d20d9a0-fd0d-4fe9-9f8a-f579322de618",
   "metadata": {},
   "source": [
    "- A string datatype is a datatype modeled on the idea of a formal string.Strings are such an important and useful datatype that they are implemented in nearly every programming language. In some languages they are available as primitive types and in others as composite types. The syntax of most high-level programming languages allows for a string, usually quoted in some way, to represent an instance of a string datatype; such a meta-string is called a literal or string literal."
   ]
  },
  {
   "cell_type": "code",
   "execution_count": 3,
   "id": "c32f7d66-3129-4080-8541-d3059cb7a90e",
   "metadata": {},
   "outputs": [],
   "source": [
    "#String creation and basic operations:"
   ]
  },
  {
   "cell_type": "code",
   "execution_count": 9,
   "id": "6a18ede5-5950-4fba-98af-1d0562a328aa",
   "metadata": {},
   "outputs": [
    {
     "name": "stdout",
     "output_type": "stream",
     "text": [
      "Hello, World!My name is Pratik.\n"
     ]
    }
   ],
   "source": [
    "name=\"Pratik\"\n",
    "greeting=\"Hello, World!\"\n",
    "#String Concatination\n",
    "full_greeting=greeting+'My name is ' +  name +'.'\n",
    "print(full_greeting)"
   ]
  },
  {
   "cell_type": "code",
   "execution_count": 13,
   "id": "bdab3f57-460e-4ad7-a45b-41c225b957d8",
   "metadata": {},
   "outputs": [
    {
     "name": "stdout",
     "output_type": "stream",
     "text": [
      "ISMT ISMT ISMT ISMT ISMT \n"
     ]
    }
   ],
   "source": [
    "#string repetition\n",
    "repeated_word=\"ISMT \" *5 \n",
    "print(repeated_word)"
   ]
  },
  {
   "cell_type": "code",
   "execution_count": 15,
   "id": "7b29a3be-4459-4698-9cad-2b27f6a8f88b",
   "metadata": {},
   "outputs": [
    {
     "name": "stdout",
     "output_type": "stream",
     "text": [
      "6\n"
     ]
    }
   ],
   "source": [
    "#string length\n",
    "print(len(name))"
   ]
  },
  {
   "cell_type": "code",
   "execution_count": 17,
   "id": "6b7bb3b4-1a74-463c-be8e-6c048d8adb8b",
   "metadata": {},
   "outputs": [],
   "source": [
    "#string indexing and slicing:"
   ]
  },
  {
   "cell_type": "code",
   "execution_count": 23,
   "id": "f4248508-b154-43d8-b52d-9b10cb39c0ae",
   "metadata": {},
   "outputs": [
    {
     "name": "stdout",
     "output_type": "stream",
     "text": [
      "First character:P, Last Character:!\n"
     ]
    }
   ],
   "source": [
    "text=\"Python Programming is awesome!\"\n",
    "#indexing:\n",
    "first_char=text[0]\n",
    "last_char=text[-1]\n",
    "print(f\"First character:{first_char}, Last Character:{last_char}\")"
   ]
  },
  {
   "cell_type": "code",
   "execution_count": 25,
   "id": "11d69097-bea1-4801-9f38-4b0ffe54a61a",
   "metadata": {},
   "outputs": [
    {
     "name": "stdout",
     "output_type": "stream",
     "text": [
      "Substring: Programming i\n"
     ]
    }
   ],
   "source": [
    "#Slicing:\n",
    "substring=text[7:20]\n",
    "print(f\"Substring: {substring}\")"
   ]
  },
  {
   "cell_type": "code",
   "execution_count": 45,
   "id": "f5acc0ac-a684-4da1-8616-d5110eec0eef",
   "metadata": {},
   "outputs": [
    {
     "name": "stdout",
     "output_type": "stream",
     "text": [
      "Reversed String:!emosewa si gnimmargorP nohtyP\n",
      "Reversed String:gramming is awe\n"
     ]
    }
   ],
   "source": [
    "#string reverse:\n",
    "reversed_text=text[::-1]\n",
    "reversed_text1=text[-20:-5]\n",
    "\n",
    "print(f\"Reversed String:{reversed_text}\")\n",
    "print(f\"Reversed String:{reversed_text1}\")\n"
   ]
  },
  {
   "cell_type": "code",
   "execution_count": 51,
   "id": "c121dab7-b582-4643-822e-507f2ac7f911",
   "metadata": {},
   "outputs": [
    {
     "name": "stdout",
     "output_type": "stream",
     "text": [
      "Stripped:'Hello, Python Learners!'\n"
     ]
    }
   ],
   "source": [
    "#string methods:\n",
    "message=\"    Hello, Python Learners! \"\n",
    "#string whitespace:\n",
    "stripped=message.strip()\n",
    "print(f\"Stripped:'{stripped}'\")"
   ]
  },
  {
   "cell_type": "code",
   "execution_count": 55,
   "id": "ea5b9c75-b31a-43bc-98b7-90f5f4b8af79",
   "metadata": {},
   "outputs": [
    {
     "name": "stdout",
     "output_type": "stream",
     "text": [
      "Uppercase:    HELLO, PYTHON LEARNERS! \n",
      "lowercase:    hello, python learners! \n",
      "Titlecase:    Hello, Python Learners! \n"
     ]
    }
   ],
   "source": [
    "#change Case:\n",
    "upper=message.upper()\n",
    "lower=message.lower()\n",
    "title=message.title()\n",
    "print(f\"Uppercase:{upper}\")\n",
    "print(f\"lowercase:{lower}\")\n",
    "print(f\"Titlecase:{title}\")"
   ]
  },
  {
   "cell_type": "code",
   "execution_count": 59,
   "id": "ed5ab6f5-aaa7-4df5-80cf-10d620bb8e0a",
   "metadata": {},
   "outputs": [
    {
     "name": "stdout",
     "output_type": "stream",
     "text": [
      "New Message after replaced:    Hello, Amazing Pyhton Learners! \n"
     ]
    }
   ],
   "source": [
    "#Replace:\n",
    "new_message=message.replace(\"Python\", \"Amazing Pyhton\")\n",
    "print(f\"New Message after replaced:{new_message}\")"
   ]
  },
  {
   "cell_type": "code",
   "execution_count": 63,
   "id": "705c3324-4c2a-4cbe-a4d8-ca288c42fd33",
   "metadata": {},
   "outputs": [
    {
     "name": "stdout",
     "output_type": "stream",
     "text": [
      "Split Words:['Hello,', 'Python', 'Learners!']\n"
     ]
    }
   ],
   "source": [
    "#Split\n",
    "words=message.split()\n",
    "print(f\"Split Words:{words}\")"
   ]
  },
  {
   "cell_type": "code",
   "execution_count": 71,
   "id": "0b949bc0-ac41-4171-8879-6e26c66bd432",
   "metadata": {},
   "outputs": [
    {
     "name": "stdout",
     "output_type": "stream",
     "text": [
      "True\n",
      "False\n",
      "True\n",
      "True\n",
      "True\n",
      "7\n",
      "True\n"
     ]
    }
   ],
   "source": [
    "#String checking methods:\n",
    "text=\"Python is awesome!\"\n",
    "#check if string starts or ends with a substring\n",
    "print(text.startswith(\"Python\"))\n",
    "print(text.endswith(\"Awesome\"))\n",
    "\n",
    "#check if string contains only letters,numbers or both.\n",
    "print(\"abc123\".isalnum())\n",
    "print(\"abc\".isalpha())\n",
    "print(\"123\".isnumeric())\n",
    "\n",
    "#Find a substring\n",
    "print(text.find(\"is\"))\n",
    "print(\"is\" in text)"
   ]
  },
  {
   "cell_type": "code",
   "execution_count": null,
   "id": "daf0268f-5b4d-4245-805e-2548cbc4b0f6",
   "metadata": {},
   "outputs": [],
   "source": []
  }
 ],
 "metadata": {
  "kernelspec": {
   "display_name": "Python 3 (ipykernel)",
   "language": "python",
   "name": "python3"
  },
  "language_info": {
   "codemirror_mode": {
    "name": "ipython",
    "version": 3
   },
   "file_extension": ".py",
   "mimetype": "text/x-python",
   "name": "python",
   "nbconvert_exporter": "python",
   "pygments_lexer": "ipython3",
   "version": "3.12.4"
  }
 },
 "nbformat": 4,
 "nbformat_minor": 5
}
