{
 "cells": [
  {
   "cell_type": "code",
   "execution_count": 1,
   "id": "9752a836-3b61-4ccc-a1c2-1d587d36f4e5",
   "metadata": {},
   "outputs": [
    {
     "name": "stdout",
     "output_type": "stream",
     "text": [
      "pratik\n"
     ]
    }
   ],
   "source": [
    "name=\"pratik\"\n",
    "print(name)\n"
   ]
  },
  {
   "cell_type": "markdown",
   "id": "b56ab9d4-8f6c-4cc5-ae0e-924fd7fe0997",
   "metadata": {},
   "source": [
    "What is python programming?<br>\n",
    "Python is a high-level, general-purpose programming language. Its design philosophy emphasizes code readability with the use of significant indentation."
   ]
  },
  {
   "cell_type": "markdown",
   "id": "febec2ae-6ce5-4a99-81de-643b9014c72d",
   "metadata": {},
   "source": [
    "**1. Print statements**"
   ]
  },
  {
   "cell_type": "code",
   "execution_count": 6,
   "id": "b1ba0e07-c01f-4d32-a543-c6339b1b66d3",
   "metadata": {},
   "outputs": [
    {
     "name": "stdout",
     "output_type": "stream",
     "text": [
      "Let's learn about Python Programming today!\n"
     ]
    }
   ],
   "source": [
    "print(\"Let's learn about Python Programming today!\")"
   ]
  },
  {
   "cell_type": "code",
   "execution_count": 8,
   "id": "b1d543c2-39b8-458c-a948-acf39e85027d",
   "metadata": {},
   "outputs": [
    {
     "name": "stdout",
     "output_type": "stream",
     "text": [
      "10\n",
      "Ram\n"
     ]
    }
   ],
   "source": [
    "# let's create two variable and print them\n",
    "x=10\n",
    "y=\"Ram\"\n",
    "print(x)\n",
    "print(y)\n"
   ]
  },
  {
   "cell_type": "code",
   "execution_count": 10,
   "id": "4f83d94a-56f2-4a98-adf0-52543220dea4",
   "metadata": {},
   "outputs": [],
   "source": [
    "#using format method"
   ]
  },
  {
   "cell_type": "code",
   "execution_count": 33,
   "id": "7f29e961-a12d-4c0e-9034-9242c1830350",
   "metadata": {},
   "outputs": [
    {
     "name": "stdout",
     "output_type": "stream",
     "text": [
      "Lora is 22 years old.\n"
     ]
    }
   ],
   "source": [
    "a=22\n",
    "b=\"Lora\"\n",
    "print(\"{} is {} years old.\" .format(b,a))"
   ]
  },
  {
   "cell_type": "code",
   "execution_count": 35,
   "id": "0a6a7185-935b-4d10-a767-5b0a11f984aa",
   "metadata": {},
   "outputs": [
    {
     "name": "stdout",
     "output_type": "stream",
     "text": [
      "Lora is 22 years old.\n"
     ]
    }
   ],
   "source": [
    "#USING CONCATINATION METHOD\n",
    "print(b+\" is \" +str(a)+ \" years old.\")"
   ]
  },
  {
   "cell_type": "code",
   "execution_count": 39,
   "id": "b974b251-1e5a-4ac7-9e91-d15221748b3b",
   "metadata": {},
   "outputs": [
    {
     "name": "stdout",
     "output_type": "stream",
     "text": [
      "Lora is 22 years old.\n"
     ]
    }
   ],
   "source": [
    "#Using older %string formatting method\n",
    "print(\"%s is %d years old.\" %(b,a))"
   ]
  },
  {
   "cell_type": "code",
   "execution_count": 41,
   "id": "2c932fa0-56c0-47d9-83b0-f2560c82d394",
   "metadata": {},
   "outputs": [
    {
     "name": "stdout",
     "output_type": "stream",
     "text": [
      "Lora is 22 years old.\n"
     ]
    }
   ],
   "source": [
    "#let's use string formatting method\n",
    "print(f\"{b} is {a} years old.\")"
   ]
  },
  {
   "cell_type": "markdown",
   "id": "4778186a-94fc-4153-bb0a-53278752b400",
   "metadata": {},
   "source": [
    "**Data types**\n",
    "<br>\n",
    "A data type (or simply type) is a collection or grouping of data values, usually specified by a set of possible values, a set of allowed operations on these values, and/or a representation of these values as machine types"
   ]
  },
  {
   "cell_type": "markdown",
   "id": "6107d508-9406-4134-ade9-073eda7b01bf",
   "metadata": {},
   "source": [
    "2.1 NUmbers:"
   ]
  },
  {
   "cell_type": "code",
   "execution_count": 51,
   "id": "d8189166-1fa0-49ec-84e9-195ead3b84b9",
   "metadata": {},
   "outputs": [
    {
     "name": "stdout",
     "output_type": "stream",
     "text": [
      "the addition of 20 and 60 is 80.\n",
      "the sunstration of 20 from 60 is 40.\n",
      "the multiplication of 20 and 60 is 1200.\n",
      "the division of 20 from 60 is 3.0.\n",
      "the mode of 20 and 60 is 0.\n"
     ]
    }
   ],
   "source": [
    "m=20\n",
    "n=60\n",
    "print(f\"the addition of {m} and {n} is {m+n}.\")\n",
    "print(f\"the sunstration of {m} from {n} is {n-m}.\")\n",
    "print(f\"the multiplication of {m} and {n} is {m*n}.\")\n",
    "print(f\"the division of {m} from {n} is {n/m}.\")\n",
    "print(f\"the mode of {m} and {n} is {n%m}.\")\n"
   ]
  },
  {
   "cell_type": "code",
   "execution_count": 55,
   "id": "0f5abac4-c9fd-4249-a6e4-cd3ebaf47d5e",
   "metadata": {},
   "outputs": [
    {
     "name": "stdin",
     "output_type": "stream",
     "text": [
      "Enter the temperature in celsius:  37\n"
     ]
    },
    {
     "name": "stdout",
     "output_type": "stream",
     "text": [
      "37 degree celsius is 98 degree fahrenheit\n"
     ]
    }
   ],
   "source": [
    "#temperature conversion \n",
    "celsius=int(input(\"Enter the temperature in celsius: \"))\n",
    "fahrenheit=(celsius*9/5) +32\n",
    "print(f\"{celsius} degree celsius is {int(fahrenheit)} degree fahrenheit\")"
   ]
  },
  {
   "cell_type": "code",
   "execution_count": 57,
   "id": "5e1ee93a-e00d-48bf-968d-0d6b46163577",
   "metadata": {},
   "outputs": [
    {
     "name": "stdout",
     "output_type": "stream",
     "text": [
      "3.14\n"
     ]
    }
   ],
   "source": [
    "#Rounding float number\n",
    "pi=3.14159\n",
    "rounded_pi=round(pi,2)\n",
    "print(rounded_pi)"
   ]
  },
  {
   "cell_type": "code",
   "execution_count": 59,
   "id": "e30a4b21-952b-4b6d-aee5-e71a2c056b94",
   "metadata": {},
   "outputs": [
    {
     "name": "stdin",
     "output_type": "stream",
     "text": [
      "Enter the principal in rupees:  100000\n",
      "Enter the time in years:  1\n",
      "Enter the rate in percentage per annum:  10\n"
     ]
    },
    {
     "name": "stdout",
     "output_type": "stream",
     "text": [
      "the simple interest of this 100000 principal is 10000.0\n"
     ]
    }
   ],
   "source": [
    "#simple interest calculator\n",
    "principal=int(input(\"Enter the principal in rupees: \"))\n",
    "time=int(input(\"Enter the time in years: \"))\n",
    "rate=int(input(\"Enter the rate in percentage per annum: \"))\n",
    "simple_interest=(principal*time*rate)/100;\n",
    "print(f\"the simple interest of this {principal} principal is {simple_interest}\")\n",
    "\n",
    "\n"
   ]
  },
  {
   "cell_type": "code",
   "execution_count": 69,
   "id": "7e7e6580-50c6-45dc-b609-129d384389a2",
   "metadata": {},
   "outputs": [
    {
     "name": "stdout",
     "output_type": "stream",
     "text": [
      "BMI:24.49\n"
     ]
    }
   ],
   "source": [
    "#BMI(Body Mass Index Calculation)\n",
    "weight_kg=75\n",
    "height_m=1.75\n",
    "bmi=((weight_kg)/height_m**2)\n",
    "print(f\"BMI:{bmi:.2f}\") #this :colon on the variable is used to specify the float digit after the natural value."
   ]
  },
  {
   "cell_type": "markdown",
   "id": "de09e9e3-7a02-4fe3-b740-aa338b7f98cb",
   "metadata": {},
   "source": [
    "2.2 String"
   ]
  },
  {
   "cell_type": "markdown",
   "id": "0d20d9a0-fd0d-4fe9-9f8a-f579322de618",
   "metadata": {},
   "source": [
    "- A string datatype is a datatype modeled on the idea of a formal string.Strings are such an important and useful datatype that they are implemented in nearly every programming language. In some languages they are available as primitive types and in others as composite types. The syntax of most high-level programming languages allows for a string, usually quoted in some way, to represent an instance of a string datatype; such a meta-string is called a literal or string literal."
   ]
  },
  {
   "cell_type": "code",
   "execution_count": 3,
   "id": "c32f7d66-3129-4080-8541-d3059cb7a90e",
   "metadata": {},
   "outputs": [],
   "source": [
    "#String creation and basic operations:"
   ]
  },
  {
   "cell_type": "code",
   "execution_count": 9,
   "id": "6a18ede5-5950-4fba-98af-1d0562a328aa",
   "metadata": {},
   "outputs": [
    {
     "name": "stdout",
     "output_type": "stream",
     "text": [
      "Hello, World!My name is Pratik.\n"
     ]
    }
   ],
   "source": [
    "name=\"Pratik\"\n",
    "greeting=\"Hello, World!\"\n",
    "#String Concatination\n",
    "full_greeting=greeting+'My name is ' +  name +'.'\n",
    "print(full_greeting)"
   ]
  },
  {
   "cell_type": "code",
   "execution_count": 13,
   "id": "bdab3f57-460e-4ad7-a45b-41c225b957d8",
   "metadata": {},
   "outputs": [
    {
     "name": "stdout",
     "output_type": "stream",
     "text": [
      "ISMT ISMT ISMT ISMT ISMT \n"
     ]
    }
   ],
   "source": [
    "#string repetition\n",
    "repeated_word=\"ISMT \" *5 \n",
    "print(repeated_word)"
   ]
  },
  {
   "cell_type": "code",
   "execution_count": 15,
   "id": "7b29a3be-4459-4698-9cad-2b27f6a8f88b",
   "metadata": {},
   "outputs": [
    {
     "name": "stdout",
     "output_type": "stream",
     "text": [
      "6\n"
     ]
    }
   ],
   "source": [
    "#string length\n",
    "print(len(name))"
   ]
  },
  {
   "cell_type": "code",
   "execution_count": 17,
   "id": "6b7bb3b4-1a74-463c-be8e-6c048d8adb8b",
   "metadata": {},
   "outputs": [],
   "source": [
    "#string indexing and slicing:"
   ]
  },
  {
   "cell_type": "code",
   "execution_count": 23,
   "id": "f4248508-b154-43d8-b52d-9b10cb39c0ae",
   "metadata": {},
   "outputs": [
    {
     "name": "stdout",
     "output_type": "stream",
     "text": [
      "First character:P, Last Character:!\n"
     ]
    }
   ],
   "source": [
    "text=\"Python Programming is awesome!\"\n",
    "#indexing:\n",
    "first_char=text[0]\n",
    "last_char=text[-1]\n",
    "print(f\"First character:{first_char}, Last Character:{last_char}\")"
   ]
  },
  {
   "cell_type": "code",
   "execution_count": 25,
   "id": "11d69097-bea1-4801-9f38-4b0ffe54a61a",
   "metadata": {},
   "outputs": [
    {
     "name": "stdout",
     "output_type": "stream",
     "text": [
      "Substring: Programming i\n"
     ]
    }
   ],
   "source": [
    "#Slicing:\n",
    "substring=text[7:20]\n",
    "print(f\"Substring: {substring}\")"
   ]
  },
  {
   "cell_type": "code",
   "execution_count": 45,
   "id": "f5acc0ac-a684-4da1-8616-d5110eec0eef",
   "metadata": {},
   "outputs": [
    {
     "name": "stdout",
     "output_type": "stream",
     "text": [
      "Reversed String:!emosewa si gnimmargorP nohtyP\n",
      "Reversed String:gramming is awe\n"
     ]
    }
   ],
   "source": [
    "#string reverse:\n",
    "reversed_text=text[::-1]\n",
    "reversed_text1=text[-20:-5]\n",
    "\n",
    "print(f\"Reversed String:{reversed_text}\")\n",
    "print(f\"Reversed String:{reversed_text1}\")\n"
   ]
  },
  {
   "cell_type": "code",
   "execution_count": 51,
   "id": "c121dab7-b582-4643-822e-507f2ac7f911",
   "metadata": {},
   "outputs": [
    {
     "name": "stdout",
     "output_type": "stream",
     "text": [
      "Stripped:'Hello, Python Learners!'\n"
     ]
    }
   ],
   "source": [
    "#string methods:\n",
    "message=\"    Hello, Python Learners! \"\n",
    "#string whitespace:\n",
    "stripped=message.strip()\n",
    "print(f\"Stripped:'{stripped}'\")"
   ]
  },
  {
   "cell_type": "code",
   "execution_count": 55,
   "id": "ea5b9c75-b31a-43bc-98b7-90f5f4b8af79",
   "metadata": {},
   "outputs": [
    {
     "name": "stdout",
     "output_type": "stream",
     "text": [
      "Uppercase:    HELLO, PYTHON LEARNERS! \n",
      "lowercase:    hello, python learners! \n",
      "Titlecase:    Hello, Python Learners! \n"
     ]
    }
   ],
   "source": [
    "#change Case:\n",
    "upper=message.upper()\n",
    "lower=message.lower()\n",
    "title=message.title()\n",
    "print(f\"Uppercase:{upper}\")\n",
    "print(f\"lowercase:{lower}\")\n",
    "print(f\"Titlecase:{title}\")"
   ]
  },
  {
   "cell_type": "code",
   "execution_count": 59,
   "id": "ed5ab6f5-aaa7-4df5-80cf-10d620bb8e0a",
   "metadata": {},
   "outputs": [
    {
     "name": "stdout",
     "output_type": "stream",
     "text": [
      "New Message after replaced:    Hello, Amazing Pyhton Learners! \n"
     ]
    }
   ],
   "source": [
    "#Replace:\n",
    "new_message=message.replace(\"Python\", \"Amazing Pyhton\")\n",
    "print(f\"New Message after replaced:{new_message}\")"
   ]
  },
  {
   "cell_type": "code",
   "execution_count": 63,
   "id": "705c3324-4c2a-4cbe-a4d8-ca288c42fd33",
   "metadata": {},
   "outputs": [
    {
     "name": "stdout",
     "output_type": "stream",
     "text": [
      "Split Words:['Hello,', 'Python', 'Learners!']\n"
     ]
    }
   ],
   "source": [
    "#Split\n",
    "words=message.split()\n",
    "print(f\"Split Words:{words}\")"
   ]
  },
  {
   "cell_type": "code",
   "execution_count": 71,
   "id": "0b949bc0-ac41-4171-8879-6e26c66bd432",
   "metadata": {},
   "outputs": [
    {
     "name": "stdout",
     "output_type": "stream",
     "text": [
      "True\n",
      "False\n",
      "True\n",
      "True\n",
      "True\n",
      "7\n",
      "True\n"
     ]
    }
   ],
   "source": [
    "#String checking methods:\n",
    "text=\"Python is awesome!\"\n",
    "#check if string starts or ends with a substring\n",
    "print(text.startswith(\"Python\"))\n",
    "print(text.endswith(\"Awesome\"))\n",
    "\n",
    "#check if string contains only letters,numbers or both.\n",
    "print(\"abc123\".isalnum())\n",
    "print(\"abc\".isalpha())\n",
    "print(\"123\".isnumeric())\n",
    "\n",
    "#Find a substring\n",
    "print(text.find(\"is\"))\n",
    "print(\"is\" in text)"
   ]
  },
  {
   "cell_type": "markdown",
   "id": "069b0c82-cdc5-4656-9d78-f3a927a83b6f",
   "metadata": {},
   "source": [
    "**2.3: List in Python**"
   ]
  },
  {
   "cell_type": "markdown",
   "id": "cf6ce9b6-860b-4f41-bca6-43071da4f833",
   "metadata": {},
   "source": [
    "- The list can be defined as an abstract data type in which the elements are stored in an ordered manner for easier and efficient retrieval of the elements. List Data Structure allows repetition that means a single piece of data can occur more than once in a list. In the case of multiple entries of the same data, each entry of that repeating data is considered as a distinct item or entry. It is very much similar to the array but the major difference between the array and the list data structure is that array stores only homogenous data in them whereas the list (in some programming languages) can store heterogeneous data items in its object. List Data Structure is also known as a sequence.\n",
    "\n",
    "The list can be called Dynamic size arrays, which means their size increased as we go on adding data in them and we need not to pre-define a static size for the list."
   ]
  },
  {
   "cell_type": "code",
   "execution_count": 7,
   "id": "265268e9-6abe-48cd-9526-55cc3361c7bc",
   "metadata": {},
   "outputs": [
    {
     "name": "stdout",
     "output_type": "stream",
     "text": [
      "1\n",
      "True\n",
      "[2, 3, 4]\n"
     ]
    }
   ],
   "source": [
    "#Creating a List in Python:\n",
    "empty_list=[]\n",
    "numbers_list=[1,2,3,4,5]\n",
    "name_list=[\"Ram\",\"Shyam\",\"Hari\",\"krishna\"]\n",
    "movies_list=['RRR','Kalki','Robot','The Consuring']\n",
    "mixed_list=[1,'Bahubali',3.14,True]\n",
    "\n",
    "#Accessing elements(including starts with 0)\n",
    "print(numbers_list[0])\n",
    "print(mixed_list[-1])\n",
    "\n",
    "#slicing\n",
    "print(numbers_list[1:4])"
   ]
  },
  {
   "cell_type": "code",
   "execution_count": 25,
   "id": "f1a21b41-2037-4ef7-8b03-4d0d4bbd842b",
   "metadata": {},
   "outputs": [
    {
     "name": "stdout",
     "output_type": "stream",
     "text": [
      " The lists of fruits after addition: \n",
      " ['Mango', 'blueberry', 'Banana', 'Cherry', 'Dragon Fruit', 'Kiwi', 'emuberry', 'elderberry', 'fig']\n"
     ]
    }
   ],
   "source": [
    "#Lists Methods and Operations:\n",
    "fruits=['Mango','Banana','Cherry','Dragon Fruit','Kiwi']\n",
    "\n",
    "#Adding elements:\n",
    "fruits.append('emuberry')\n",
    "fruits.insert(1,'blueberry')\n",
    "fruits.extend(['elderberry','fig'])\n",
    "print(f\" The lists of fruits after addition: \\n {fruits}\")"
   ]
  },
  {
   "cell_type": "code",
   "execution_count": 27,
   "id": "4050e0ef-2f8b-49d2-8da5-47c3077bd854",
   "metadata": {},
   "outputs": [
    {
     "name": "stdout",
     "output_type": "stream",
     "text": [
      "The list after removal: \n",
      "['Mango', 'blueberry', 'Dragon Fruit', 'Kiwi', 'emuberry', 'elderberry']\n"
     ]
    }
   ],
   "source": [
    "#Removing elements:\n",
    "fruits.remove('Banana')\n",
    "popped_fruit=fruits.pop() #Remove and return last element from the list.\n",
    "del fruits[2]\n",
    "print(f\"The list after removal: \\n{fruits}\")"
   ]
  },
  {
   "cell_type": "code",
   "execution_count": 33,
   "id": "daff2d11-2a54-4b12-9a25-9822953e0a44",
   "metadata": {},
   "outputs": [
    {
     "name": "stdout",
     "output_type": "stream",
     "text": [
      "6\n",
      "4\n",
      "1\n"
     ]
    }
   ],
   "source": [
    "# Other useful methods:\n",
    "print(len(fruits)) # gives the length of \n",
    "print(fruits.index('emuberry')) #find the index of element\n",
    "print(fruits.count('Kiwi')) #find the occurence count of an element."
   ]
  },
  {
   "cell_type": "code",
   "execution_count": 35,
   "id": "fae283b0-2e01-4359-b88a-a2e0515a0a6e",
   "metadata": {},
   "outputs": [],
   "source": [
    "#Sorting of list:"
   ]
  },
  {
   "cell_type": "code",
   "execution_count": 60,
   "id": "2defa6ff-5e2d-4a15-b9a5-f8fb95c5d4be",
   "metadata": {},
   "outputs": [
    {
     "name": "stdout",
     "output_type": "stream",
     "text": [
      "['Dragon Fruit', 'Kiwi', 'Mango', 'blueberry', 'elderberry', 'emuberry']\n",
      "['Dragon Fruit', 'Kiwi', 'Mango', 'blueberry', 'elderberry', 'emuberry']\n"
     ]
    }
   ],
   "source": [
    "fruits.sort() # In-place sorting just sort the elements of the list.\n",
    "print(fruits)\n",
    "sorted_fruits = sorted(fruits) # sorted is method here.\n",
    "print(sorted_fruits)\n"
   ]
  },
  {
   "cell_type": "code",
   "execution_count": 78,
   "id": "b88f6822-f4d5-4651-a11a-8596c93d0ecf",
   "metadata": {},
   "outputs": [
    {
     "name": "stdout",
     "output_type": "stream",
     "text": [
      "['The Consuring', 'Robot', 'Kalki', 'RRR']\n",
      "['RRR', 'Kalki', 'Robot', 'The Consuring']\n",
      "['The Consuring', 'Robot', 'Kalki', 'RRR']\n"
     ]
    }
   ],
   "source": [
    "movies_list=['RRR','Kalki','Robot','The Consuring']\n",
    "movies_list.reverse() #In-place reversal\n",
    "print(movies_list)\n",
    "reversed_movie_list=movies_list[::-1] # Using slicing normal reversal of list element.\n",
    "print(reversed_movie_list)\n",
    "reversed_movie_list=movies_list[:len(movies_list)] # Using slicing normal reversal of list element.\n",
    "print(reversed_movie_list)"
   ]
  },
  {
   "cell_type": "code",
   "execution_count": 80,
   "id": "6e41e171-89a3-4cfc-9fe5-52354e5bfdfb",
   "metadata": {},
   "outputs": [
    {
     "name": "stdout",
     "output_type": "stream",
     "text": [
      "[1, 4, 9, 16, 25]\n",
      "[2, 4]\n"
     ]
    }
   ],
   "source": [
    "#List Comprehensiions: A concise way to create list \n",
    "numbers=[1,2,3,4,5]\n",
    "squares=[x**2 for x in numbers]\n",
    "even_numbers=[x for x in numbers if x % 2 ==0]\n",
    "print(squares)\n",
    "print(even_numbers)"
   ]
  },
  {
   "cell_type": "code",
   "execution_count": 116,
   "id": "841f8503-09b8-46c5-a4ff-3956481637b9",
   "metadata": {},
   "outputs": [
    {
     "name": "stdout",
     "output_type": "stream",
     "text": [
      "5\n"
     ]
    }
   ],
   "source": [
    "#Nested Lists: Lists can contain other lists, create \n",
    "matrix=[[1,2,3],[4,5,6],[7,8,9]]\n",
    "print(matrix[1][1])"
   ]
  },
  {
   "cell_type": "markdown",
   "id": "df783bc3-ea2a-4c17-aea8-046bf8315105",
   "metadata": {},
   "source": [
    "Project TO-DO Lists using Lists"
   ]
  },
  {
   "cell_type": "code",
   "execution_count": 130,
   "id": "30183cbb-9d32-49a3-93c4-4c0f358d2759",
   "metadata": {},
   "outputs": [
    {
     "name": "stdout",
     "output_type": "stream",
     "text": [
      "Completed Task:Goto Home\n",
      "1. Eating Rice\n",
      "2. sleep\n",
      "3. Wakeup\n"
     ]
    }
   ],
   "source": [
    "todo_list= ['Goto Home','Eating Rice','sleep']\n",
    "#Add new task\n",
    "todo_list.append('Wakeup')\n",
    "#Mark a task as complete \n",
    "completed_task=todo_list.pop(0)\n",
    "print(f\"Completed Task:{completed_task}\")\n",
    "#show remaining tasks:\n",
    "for index,task in enumerate(todo_list,1):\n",
    "    print(f\"{index}. {task}\")"
   ]
  },
  {
   "cell_type": "code",
   "execution_count": null,
   "id": "5261dc43-90d6-4b2d-b617-e59377b02cd0",
   "metadata": {},
   "outputs": [],
   "source": []
  },
  {
   "cell_type": "code",
   "execution_count": null,
   "id": "e6e68d20-f847-4687-a4af-b13de00c4f26",
   "metadata": {},
   "outputs": [],
   "source": []
  }
 ],
 "metadata": {
  "kernelspec": {
   "display_name": "Python 3 (ipykernel)",
   "language": "python",
   "name": "python3"
  },
  "language_info": {
   "codemirror_mode": {
    "name": "ipython",
    "version": 3
   },
   "file_extension": ".py",
   "mimetype": "text/x-python",
   "name": "python",
   "nbconvert_exporter": "python",
   "pygments_lexer": "ipython3",
   "version": "3.12.4"
  }
 },
 "nbformat": 4,
 "nbformat_minor": 5
}
